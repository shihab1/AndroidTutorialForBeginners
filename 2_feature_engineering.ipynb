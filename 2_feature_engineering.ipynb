{
  "nbformat": 4,
  "nbformat_minor": 0,
  "metadata": {
    "colab": {
      "provenance": [],
      "authorship_tag": "ABX9TyOat8i/uIgRHamB1WLZ2zrs",
      "include_colab_link": true
    },
    "kernelspec": {
      "name": "python3",
      "display_name": "Python 3"
    },
    "language_info": {
      "name": "python"
    }
  },
  "cells": [
    {
      "cell_type": "markdown",
      "metadata": {
        "id": "view-in-github",
        "colab_type": "text"
      },
      "source": [
        "<a href=\"https://colab.research.google.com/github/shihab1/AndroidTutorialForBeginners/blob/master/2_feature_engineering.ipynb\" target=\"_parent\"><img src=\"https://colab.research.google.com/assets/colab-badge.svg\" alt=\"Open In Colab\"/></a>"
      ]
    },
    {
      "cell_type": "code",
      "execution_count": 1,
      "metadata": {
        "id": "ikl4ZNFOhTbA",
        "colab": {
          "base_uri": "https://localhost:8080/"
        },
        "outputId": "8a9d5fab-e4fc-4507-c6dd-6d60780910fe"
      },
      "outputs": [
        {
          "output_type": "stream",
          "name": "stdout",
          "text": [
            "Cloning into 'DLI'...\n",
            "remote: Enumerating objects: 6, done.\u001b[K\n",
            "remote: Counting objects: 100% (6/6), done.\u001b[K\n",
            "remote: Compressing objects: 100% (4/4), done.\u001b[K\n",
            "remote: Total 6 (delta 0), reused 0 (delta 0), pack-reused 0 (from 0)\u001b[K\n",
            "Receiving objects: 100% (6/6), 8.30 KiB | 1.19 MiB/s, done.\n",
            "/content/DLI\n"
          ]
        }
      ],
      "source": [
        "!git config --global user.email \"almnaryb139@gmail.com\"\n",
        "!git config --global user.name \"shihab1\"\n",
        "\n",
        "!git clone https://github.com/shihab1/DLI.git\n",
        "%cd DLI"
      ]
    },
    {
      "cell_type": "code",
      "source": [
        "# --- Commit 1: Text cleaning and preprocessing ---\n",
        "\n",
        "# 1. Setup\n",
        "import pandas as pd\n",
        "import numpy as np\n",
        "import re\n",
        "import nltk\n",
        "nltk.download('stopwords')\n",
        "from nltk.corpus import stopwords\n",
        "\n",
        "stop_words = set(stopwords.words('english'))\n",
        "\n",
        "# 2. Data Loading\n",
        "df = pd.read_csv(\"/content/data/cleaned_data.csv\")\n",
        "\n",
        "# 3. Preprocessing - Merge subject and body\n",
        "df['text'] = df['subject'].fillna('') + ' ' + df['body'].fillna('')\n",
        "\n",
        "# Clean text\n",
        "def clean_text(text):\n",
        "    text = text.lower()\n",
        "    text = re.sub(r'[^a-zA-Z\\s]', '', text)\n",
        "    text = ' '.join([word for word in text.split() if word not in stop_words])\n",
        "    return text\n",
        "\n",
        "df['clean_text'] = df['text'].apply(clean_text)\n",
        "print(df[['text', 'clean_text']].head())"
      ],
      "metadata": {
        "colab": {
          "base_uri": "https://localhost:8080/"
        },
        "id": "Ynz3Fu5BOgdy",
        "outputId": "b8eb85d0-797e-4396-e0ef-a7b1815d2f76"
      },
      "execution_count": 1,
      "outputs": [
        {
          "output_type": "stream",
          "name": "stderr",
          "text": [
            "[nltk_data] Downloading package stopwords to /root/nltk_data...\n",
            "[nltk_data]   Unzipping corpora/stopwords.zip.\n"
          ]
        },
        {
          "output_type": "stream",
          "name": "stdout",
          "text": [
            "                                                text  \\\n",
            "0  FW: June 29 -- BNA, Inc. Daily Labor Report Us...   \n",
            "1  NGX failover plan. Hi Chris, Tonight we are ro...   \n",
            "2  RE: Intranet Site Rika r these new? -----Origi...   \n",
            "3  FW: ENA Upstream Company information John/Gera...   \n",
            "4  New Master Physical Gerald and Stacy - Attache...   \n",
            "\n",
            "                                          clean_text  \n",
            "0  fw june bna inc daily labor report user id enr...  \n",
            "1  ngx failover plan hi chris tonight rolling new...  \n",
            "2  intranet site rika r new original message thom...  \n",
            "3  fw ena upstream company information johngerald...  \n",
            "4  new master physical gerald stacy attached work...  \n"
          ]
        }
      ]
    }
  ]
}